{
 "cells": [
  {
   "cell_type": "code",
   "execution_count": 1,
   "metadata": {},
   "outputs": [
    {
     "name": "stdout",
     "output_type": "stream",
     "text": [
      "The number of unique twitter id's in the data collection is: 816\n"
     ]
    }
   ],
   "source": [
    "## count total number of unqiue user id's in data collection\n",
    "\n",
    "import json\n",
    "f = open(\"collected_tweets_boerzoektvrouw.json\", \"r\", encoding = \"utf-8\")\n",
    "con = f.readlines() \n",
    "\n",
    "user_list = []\n",
    "\n",
    "for c in con:\n",
    "    if (len(c)<=1): \n",
    "        continue \n",
    "    \n",
    "    my_object = json.loads(c)\n",
    "    user_list.append(my_object.get(\"user\").get(\"id\"))\n",
    "\n",
    "user_list_no_duplicates = []\n",
    "\n",
    "for user in user_list:\n",
    "    if user in user_list_no_duplicates:\n",
    "        continue\n",
    "\n",
    "    user_list_no_duplicates.append(user)\n",
    "\n",
    "print(\"The number of unique user id's in the data collection is: \"+ str(len(user_list_no_duplicates)))\n",
    "\n",
    "f.close()"
   ]
  }
 ],
 "metadata": {
  "kernelspec": {
   "display_name": "Python 3",
   "language": "python",
   "name": "python3"
  },
  "language_info": {
   "codemirror_mode": {
    "name": "ipython",
    "version": 3
   },
   "file_extension": ".py",
   "mimetype": "text/x-python",
   "name": "python",
   "nbconvert_exporter": "python",
   "pygments_lexer": "ipython3",
   "version": "3.7.6"
  }
 },
 "nbformat": 4,
 "nbformat_minor": 4
}
