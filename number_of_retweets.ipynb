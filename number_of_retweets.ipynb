{
 "cells": [
  {
   "cell_type": "code",
   "execution_count": 4,
   "metadata": {},
   "outputs": [
    {
     "name": "stdout",
     "output_type": "stream",
     "text": [
      "The number of retweets in the data collection is: 109\n"
     ]
    }
   ],
   "source": [
    "## count number of retweets in data collection\n",
    "\n",
    "import json\n",
    "f = open(\"collected_tweets_boerzoektvrouw.json\", \"r\", encoding = \"utf-8\")\n",
    "con = f.readlines() \n",
    "\n",
    "count = 0\n",
    "\n",
    "for c in con:\n",
    "    if (len(c)<=1): \n",
    "        continue \n",
    "    \n",
    "    my_object = json.loads(c)  \n",
    "    retweet = my_object.get('retweeted_status')\n",
    "    \n",
    "    if retweet == None:\n",
    "        continue\n",
    "    \n",
    "    else:\n",
    "        count+=1\n",
    "  \n",
    "print(\"The number of retweets in the data collection is: \" + str(count))\n",
    "\n",
    "f.close()"
   ]
  }
 ],
 "metadata": {
  "kernelspec": {
   "display_name": "Python 3",
   "language": "python",
   "name": "python3"
  },
  "language_info": {
   "codemirror_mode": {
    "name": "ipython",
    "version": 3
   },
   "file_extension": ".py",
   "mimetype": "text/x-python",
   "name": "python",
   "nbconvert_exporter": "python",
   "pygments_lexer": "ipython3",
   "version": "3.7.6"
  }
 },
 "nbformat": 4,
 "nbformat_minor": 4
}
